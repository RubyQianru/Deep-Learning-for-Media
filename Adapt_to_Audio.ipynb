{
  "cells": [
    {
      "cell_type": "markdown",
      "metadata": {
        "id": "view-in-github",
        "colab_type": "text"
      },
      "source": [
        "<a href=\"https://colab.research.google.com/github/RubyQianru/Deep-Learning-for-Media/blob/main/Adapt_to_Audio.ipynb\" target=\"_parent\"><img src=\"https://colab.research.google.com/assets/colab-badge.svg\" alt=\"Open In Colab\"/></a>"
      ]
    },
    {
      "cell_type": "markdown",
      "source": [
        "# Deep Learning for Media\n",
        "#### MPATE-GE 2039 - DM-GY 9103\n",
        "\n",
        "---\n",
        "\n",
        "\n",
        "This is a class excercise, it counts towards your class participation grade. Notebook based on the companion materials of:\n",
        "\n",
        "<blockquote>\n",
        "\"Deep Learning with Python\", Second Edition by  F. Chollet, 2021.\n",
        "</blockquote>\n",
        "\n",
        "Follow the instructions below."
      ],
      "metadata": {
        "id": "LszNZYC039OI"
      }
    },
    {
      "cell_type": "markdown",
      "metadata": {
        "id": "KKa3sQZH3cqb"
      },
      "source": [
        "## Instrument classification using audio\n",
        "\n",
        "Based on the code from the notebook \"Building Blocks\" that we discussed in class, complete this notebook to train a classifier with audio. Change your runtime to use a GPU for faster results."
      ]
    },
    {
      "cell_type": "markdown",
      "metadata": {
        "id": "30rL5z-93cqb"
      },
      "source": [
        "### Obtain the dataset\n",
        "\n",
        "For this assignment we will use a mini version of the Medley-Solos-DB dataset:\n",
        "\n",
        "<blockquote>\n",
        "V. Lostanlen, C.E. Cella. Deep convolutional networks on the pitch spiral for musical instrument recognition. Proceedings of the International Society for Music Information Retrieval Conference (ISMIR), 2016.\n",
        "</blockquote>\n",
        "\n",
        "Download the dataset mini version of the dataset [from this link](bit.ly/mini_medley_solos_db), and save it in your Drive under `mir_datasets/mini_medley_db_solos`."
      ]
    },
    {
      "cell_type": "code",
      "source": [
        "!pip install mirdata==0.3.8   # this is a package for working with music datasets"
      ],
      "metadata": {
        "id": "B8DFtr4LGoBc",
        "outputId": "9766204f-a2cf-4805-de63-7d772d295a6b",
        "colab": {
          "base_uri": "https://localhost:8080/"
        }
      },
      "execution_count": null,
      "outputs": [
        {
          "output_type": "stream",
          "name": "stdout",
          "text": [
            "Collecting mirdata==0.3.8\n",
            "  Downloading mirdata-0.3.8-py3-none-any.whl (17.2 MB)\n",
            "\u001b[2K     \u001b[90m━━━━━━━━━━━━━━━━━━━━━━━━━━━━━━━━━━━━━━━━\u001b[0m \u001b[32m17.2/17.2 MB\u001b[0m \u001b[31m52.1 MB/s\u001b[0m eta \u001b[36m0:00:00\u001b[0m\n",
            "\u001b[?25hRequirement already satisfied: attrs>=23.1.0 in /usr/local/lib/python3.10/dist-packages (from mirdata==0.3.8) (23.2.0)\n",
            "Collecting black>=23.3.0 (from mirdata==0.3.8)\n",
            "  Downloading black-24.1.1-cp310-cp310-manylinux_2_17_x86_64.manylinux2014_x86_64.whl (1.7 MB)\n",
            "\u001b[2K     \u001b[90m━━━━━━━━━━━━━━━━━━━━━━━━━━━━━━━━━━━━━━━━\u001b[0m \u001b[32m1.7/1.7 MB\u001b[0m \u001b[31m84.8 MB/s\u001b[0m eta \u001b[36m0:00:00\u001b[0m\n",
            "\u001b[?25hRequirement already satisfied: chardet>=5.0.0 in /usr/local/lib/python3.10/dist-packages (from mirdata==0.3.8) (5.2.0)\n",
            "Collecting Deprecated>=1.2.14 (from mirdata==0.3.8)\n",
            "  Downloading Deprecated-1.2.14-py2.py3-none-any.whl (9.6 kB)\n",
            "Requirement already satisfied: h5py>=3.7.0 in /usr/local/lib/python3.10/dist-packages (from mirdata==0.3.8) (3.9.0)\n",
            "Collecting jams>=0.3.4 (from mirdata==0.3.8)\n",
            "  Downloading jams-0.3.4.tar.gz (51 kB)\n",
            "\u001b[2K     \u001b[90m━━━━━━━━━━━━━━━━━━━━━━━━━━━━━━━━━━━━━━━━\u001b[0m \u001b[32m51.3/51.3 kB\u001b[0m \u001b[31m7.4 MB/s\u001b[0m eta \u001b[36m0:00:00\u001b[0m\n",
            "\u001b[?25h  Preparing metadata (setup.py) ... \u001b[?25l\u001b[?25hdone\n",
            "Requirement already satisfied: librosa>=0.10.1 in /usr/local/lib/python3.10/dist-packages (from mirdata==0.3.8) (0.10.1)\n",
            "Requirement already satisfied: numpy>=1.21.6 in /usr/local/lib/python3.10/dist-packages (from mirdata==0.3.8) (1.23.5)\n",
            "Requirement already satisfied: pandas>=1.3.5 in /usr/local/lib/python3.10/dist-packages (from mirdata==0.3.8) (1.5.3)\n",
            "Collecting pretty-midi>=0.2.10 (from mirdata==0.3.8)\n",
            "  Downloading pretty_midi-0.2.10.tar.gz (5.6 MB)\n",
            "\u001b[2K     \u001b[90m━━━━━━━━━━━━━━━━━━━━━━━━━━━━━━━━━━━━━━━━\u001b[0m \u001b[32m5.6/5.6 MB\u001b[0m \u001b[31m58.3 MB/s\u001b[0m eta \u001b[36m0:00:00\u001b[0m\n",
            "\u001b[?25h  Preparing metadata (setup.py) ... \u001b[?25l\u001b[?25hdone\n",
            "Requirement already satisfied: pyyaml>=6.0 in /usr/local/lib/python3.10/dist-packages (from mirdata==0.3.8) (6.0.1)\n",
            "Requirement already satisfied: requests>=2.31.0 in /usr/local/lib/python3.10/dist-packages (from mirdata==0.3.8) (2.31.0)\n",
            "Requirement already satisfied: scipy>=1.7.3 in /usr/local/lib/python3.10/dist-packages (from mirdata==0.3.8) (1.11.4)\n",
            "Requirement already satisfied: tqdm>=4.66.1 in /usr/local/lib/python3.10/dist-packages (from mirdata==0.3.8) (4.66.1)\n",
            "Requirement already satisfied: click>=8.0.0 in /usr/local/lib/python3.10/dist-packages (from black>=23.3.0->mirdata==0.3.8) (8.1.7)\n",
            "Collecting mypy-extensions>=0.4.3 (from black>=23.3.0->mirdata==0.3.8)\n",
            "  Downloading mypy_extensions-1.0.0-py3-none-any.whl (4.7 kB)\n",
            "Requirement already satisfied: packaging>=22.0 in /usr/local/lib/python3.10/dist-packages (from black>=23.3.0->mirdata==0.3.8) (23.2)\n",
            "Collecting pathspec>=0.9.0 (from black>=23.3.0->mirdata==0.3.8)\n",
            "  Downloading pathspec-0.12.1-py3-none-any.whl (31 kB)\n",
            "Requirement already satisfied: platformdirs>=2 in /usr/local/lib/python3.10/dist-packages (from black>=23.3.0->mirdata==0.3.8) (4.1.0)\n",
            "Requirement already satisfied: tomli>=1.1.0 in /usr/local/lib/python3.10/dist-packages (from black>=23.3.0->mirdata==0.3.8) (2.0.1)\n",
            "Requirement already satisfied: typing-extensions>=4.0.1 in /usr/local/lib/python3.10/dist-packages (from black>=23.3.0->mirdata==0.3.8) (4.5.0)\n",
            "Requirement already satisfied: wrapt<2,>=1.10 in /usr/local/lib/python3.10/dist-packages (from Deprecated>=1.2.14->mirdata==0.3.8) (1.14.1)\n",
            "Requirement already satisfied: sortedcontainers>=2.0.0 in /usr/local/lib/python3.10/dist-packages (from jams>=0.3.4->mirdata==0.3.8) (2.4.0)\n",
            "Requirement already satisfied: jsonschema>=3.0.0 in /usr/local/lib/python3.10/dist-packages (from jams>=0.3.4->mirdata==0.3.8) (4.19.2)\n",
            "Requirement already satisfied: six in /usr/local/lib/python3.10/dist-packages (from jams>=0.3.4->mirdata==0.3.8) (1.16.0)\n",
            "Requirement already satisfied: decorator in /usr/local/lib/python3.10/dist-packages (from jams>=0.3.4->mirdata==0.3.8) (4.4.2)\n",
            "Collecting mir_eval>=0.5 (from jams>=0.3.4->mirdata==0.3.8)\n",
            "  Downloading mir_eval-0.7.tar.gz (90 kB)\n",
            "\u001b[2K     \u001b[90m━━━━━━━━━━━━━━━━━━━━━━━━━━━━━━━━━━━━━━━━\u001b[0m \u001b[32m90.7/90.7 kB\u001b[0m \u001b[31m11.5 MB/s\u001b[0m eta \u001b[36m0:00:00\u001b[0m\n",
            "\u001b[?25h  Preparing metadata (setup.py) ... \u001b[?25l\u001b[?25hdone\n",
            "Requirement already satisfied: audioread>=2.1.9 in /usr/local/lib/python3.10/dist-packages (from librosa>=0.10.1->mirdata==0.3.8) (3.0.1)\n",
            "Requirement already satisfied: scikit-learn>=0.20.0 in /usr/local/lib/python3.10/dist-packages (from librosa>=0.10.1->mirdata==0.3.8) (1.2.2)\n",
            "Requirement already satisfied: joblib>=0.14 in /usr/local/lib/python3.10/dist-packages (from librosa>=0.10.1->mirdata==0.3.8) (1.3.2)\n",
            "Requirement already satisfied: numba>=0.51.0 in /usr/local/lib/python3.10/dist-packages (from librosa>=0.10.1->mirdata==0.3.8) (0.58.1)\n",
            "Requirement already satisfied: soundfile>=0.12.1 in /usr/local/lib/python3.10/dist-packages (from librosa>=0.10.1->mirdata==0.3.8) (0.12.1)\n",
            "Requirement already satisfied: pooch>=1.0 in /usr/local/lib/python3.10/dist-packages (from librosa>=0.10.1->mirdata==0.3.8) (1.8.0)\n",
            "Requirement already satisfied: soxr>=0.3.2 in /usr/local/lib/python3.10/dist-packages (from librosa>=0.10.1->mirdata==0.3.8) (0.3.7)\n",
            "Requirement already satisfied: lazy-loader>=0.1 in /usr/local/lib/python3.10/dist-packages (from librosa>=0.10.1->mirdata==0.3.8) (0.3)\n",
            "Requirement already satisfied: msgpack>=1.0 in /usr/local/lib/python3.10/dist-packages (from librosa>=0.10.1->mirdata==0.3.8) (1.0.7)\n",
            "Requirement already satisfied: python-dateutil>=2.8.1 in /usr/local/lib/python3.10/dist-packages (from pandas>=1.3.5->mirdata==0.3.8) (2.8.2)\n",
            "Requirement already satisfied: pytz>=2020.1 in /usr/local/lib/python3.10/dist-packages (from pandas>=1.3.5->mirdata==0.3.8) (2023.3.post1)\n",
            "Collecting mido>=1.1.16 (from pretty-midi>=0.2.10->mirdata==0.3.8)\n",
            "  Downloading mido-1.3.2-py3-none-any.whl (54 kB)\n",
            "\u001b[2K     \u001b[90m━━━━━━━━━━━━━━━━━━━━━━━━━━━━━━━━━━━━━━━━\u001b[0m \u001b[32m54.6/54.6 kB\u001b[0m \u001b[31m7.5 MB/s\u001b[0m eta \u001b[36m0:00:00\u001b[0m\n",
            "\u001b[?25hRequirement already satisfied: charset-normalizer<4,>=2 in /usr/local/lib/python3.10/dist-packages (from requests>=2.31.0->mirdata==0.3.8) (3.3.2)\n",
            "Requirement already satisfied: idna<4,>=2.5 in /usr/local/lib/python3.10/dist-packages (from requests>=2.31.0->mirdata==0.3.8) (3.6)\n",
            "Requirement already satisfied: urllib3<3,>=1.21.1 in /usr/local/lib/python3.10/dist-packages (from requests>=2.31.0->mirdata==0.3.8) (2.0.7)\n",
            "Requirement already satisfied: certifi>=2017.4.17 in /usr/local/lib/python3.10/dist-packages (from requests>=2.31.0->mirdata==0.3.8) (2023.11.17)\n",
            "Requirement already satisfied: jsonschema-specifications>=2023.03.6 in /usr/local/lib/python3.10/dist-packages (from jsonschema>=3.0.0->jams>=0.3.4->mirdata==0.3.8) (2023.12.1)\n",
            "Requirement already satisfied: referencing>=0.28.4 in /usr/local/lib/python3.10/dist-packages (from jsonschema>=3.0.0->jams>=0.3.4->mirdata==0.3.8) (0.32.1)\n",
            "Requirement already satisfied: rpds-py>=0.7.1 in /usr/local/lib/python3.10/dist-packages (from jsonschema>=3.0.0->jams>=0.3.4->mirdata==0.3.8) (0.17.1)\n",
            "Requirement already satisfied: future in /usr/local/lib/python3.10/dist-packages (from mir_eval>=0.5->jams>=0.3.4->mirdata==0.3.8) (0.18.3)\n",
            "Requirement already satisfied: llvmlite<0.42,>=0.41.0dev0 in /usr/local/lib/python3.10/dist-packages (from numba>=0.51.0->librosa>=0.10.1->mirdata==0.3.8) (0.41.1)\n",
            "Requirement already satisfied: threadpoolctl>=2.0.0 in /usr/local/lib/python3.10/dist-packages (from scikit-learn>=0.20.0->librosa>=0.10.1->mirdata==0.3.8) (3.2.0)\n",
            "Requirement already satisfied: cffi>=1.0 in /usr/local/lib/python3.10/dist-packages (from soundfile>=0.12.1->librosa>=0.10.1->mirdata==0.3.8) (1.16.0)\n",
            "Requirement already satisfied: pycparser in /usr/local/lib/python3.10/dist-packages (from cffi>=1.0->soundfile>=0.12.1->librosa>=0.10.1->mirdata==0.3.8) (2.21)\n",
            "Building wheels for collected packages: jams, pretty-midi, mir_eval\n",
            "  Building wheel for jams (setup.py) ... \u001b[?25l\u001b[?25hdone\n",
            "  Created wheel for jams: filename=jams-0.3.4-py3-none-any.whl size=64901 sha256=2dc697de715e7f0ca2b26f09079311712e7b02bb21e9b045d8868b1015d2e6f1\n",
            "  Stored in directory: /root/.cache/pip/wheels/28/9a/f7/fb386b6bc5a75a3ef198a50e98b221e94a381472332b65cf24\n",
            "  Building wheel for pretty-midi (setup.py) ... \u001b[?25l\u001b[?25hdone\n",
            "  Created wheel for pretty-midi: filename=pretty_midi-0.2.10-py3-none-any.whl size=5592284 sha256=efa12c58cbed3debfb1abe00483a0e696fe73a1c12b6838e9f91a34418731558\n",
            "  Stored in directory: /root/.cache/pip/wheels/cd/a5/30/7b8b7f58709f5150f67f98fde4b891ebf0be9ef07a8af49f25\n",
            "  Building wheel for mir_eval (setup.py) ... \u001b[?25l\u001b[?25hdone\n",
            "  Created wheel for mir_eval: filename=mir_eval-0.7-py3-none-any.whl size=100703 sha256=d6131372f33cf363330af9a32f1cf4734081ddd1a69ae349a6b5442ae8170e57\n",
            "  Stored in directory: /root/.cache/pip/wheels/3e/2f/0d/dda9c4c77a170e21356b6afa2f7d9bb078338634ba05d94e3f\n",
            "Successfully built jams pretty-midi mir_eval\n",
            "Installing collected packages: pathspec, mypy-extensions, mido, Deprecated, pretty-midi, mir_eval, black, jams, mirdata\n",
            "Successfully installed Deprecated-1.2.14 black-24.1.1 jams-0.3.4 mido-1.3.2 mir_eval-0.7 mirdata-0.3.8 mypy-extensions-1.0.0 pathspec-0.12.1 pretty-midi-0.2.10\n"
          ]
        }
      ]
    },
    {
      "cell_type": "code",
      "execution_count": null,
      "metadata": {
        "id": "3EFfC2lR3cqc",
        "outputId": "a1e52f76-34cd-4ac2-ac66-6c7231221fcf",
        "colab": {
          "base_uri": "https://localhost:8080/"
        }
      },
      "outputs": [
        {
          "output_type": "stream",
          "name": "stdout",
          "text": [
            "Mounted at /content/drive\n"
          ]
        }
      ],
      "source": [
        "from google.colab import drive\n",
        "drive.mount('/content/drive')"
      ]
    },
    {
      "cell_type": "code",
      "source": [
        "import os\n",
        "import mirdata\n",
        "import librosa\n",
        "import numpy as np\n",
        "import random\n",
        "\n",
        "\n",
        "data_home = '/content/drive/My Drive/mir_datasets/mini_medley_solos_db'\n",
        "dataset = mirdata.initialize('medley_solos_db', data_home=data_home)"
      ],
      "metadata": {
        "id": "uNkbHWvjGvrH"
      },
      "execution_count": null,
      "outputs": []
    },
    {
      "cell_type": "code",
      "source": [
        "if not os.path.exists(\"/content/drive/My Drive/mir_datasets/\"):\n",
        "  print(\"Make a directory at `My Drive/mir_datasets/`!\")\n",
        "\n",
        "if not (os.path.exists(\"/content/drive/My Drive/mir_datasets/mini_medley_solos_db\")\n",
        "  and os.path.exists(\"/content/drive/My Drive/mir_datasets/mini_medley_solos_db/audio\")\n",
        "  and os.path.exists(\"/content/drive/My Drive/mir_datasets/mini_medley_solos_db/annotation\")):\n",
        "  print(\"Unzip `mini_medley_solos_db.zip` at `My Drive/mir_datasets/`! It will create two sub-folders, `audio` and `annotation`.\")\n",
        "  print(\"If you're done with it on your laptop, you may need to wait till your Google Drive is sync'ed.\")\n"
      ],
      "metadata": {
        "id": "_TOm7n-uWtCj"
      },
      "execution_count": null,
      "outputs": []
    },
    {
      "cell_type": "code",
      "source": [
        "# check that the code runs by loading a random file\n",
        "dataset.track('fe798314-bdfb-5055-f633-5c2df5129be4').audio"
      ],
      "metadata": {
        "id": "4OPVIXl6dER_",
        "outputId": "832beead-cff4-4d25-f1a5-12d6928eddfc",
        "colab": {
          "base_uri": "https://localhost:8080/"
        }
      },
      "execution_count": null,
      "outputs": [
        {
          "output_type": "execute_result",
          "data": {
            "text/plain": [
              "(array([-0.00023576, -0.00034744, -0.00029236, ..., -0.00042982,\n",
              "         0.00110277,  0.00333256], dtype=float32),\n",
              " 22050)"
            ]
          },
          "metadata": {},
          "execution_count": 5
        }
      ]
    },
    {
      "cell_type": "markdown",
      "source": [
        "We are not going to use the audio waveform directly, the sampling rate of a waveform is very high and it's a lot of data to deal with!\n",
        "\n",
        "Instead, we're going to ''summarize'' its content by extracting some audio features. Those features are called [MFCCs](https://medium.com/prathena/the-dummys-guide-to-mfcc-aceab2450fd), which roughly speaking represent timbre information pretty well."
      ],
      "metadata": {
        "id": "43zQnSD6d-22"
      }
    },
    {
      "cell_type": "code",
      "source": [
        "def compute_mfccs(y, sr, n_fft=2048, hop_length=512, n_mels=128, n_mfcc=20):\n",
        "    \"\"\"Compute mfccs for an audio file, removing the 0th MFCC coefficient\n",
        "    to be independent of loudness\n",
        "\n",
        "    Parameters\n",
        "    ----------\n",
        "    y : np.array\n",
        "        Mono audio signal\n",
        "    sr : int\n",
        "        Audio sample rate\n",
        "    n_fft : int\n",
        "        Number of points for computing the fft\n",
        "    hop_length : int\n",
        "        Number of samples to advance between frames\n",
        "    n_mels : int\n",
        "        Number of mel frequency bands to use\n",
        "    n_mfcc : int\n",
        "        Number of mfcc's to compute\n",
        "\n",
        "    Returns\n",
        "    -------\n",
        "    mfccs: np.array (t, n_mfcc - 1)\n",
        "        Matrix of mfccs\n",
        "\n",
        "    \"\"\"\n",
        "\n",
        "    mfcc = librosa.feature.mfcc(y=y,\n",
        "                                sr=sr,\n",
        "                                n_mfcc=n_mfcc,\n",
        "                                n_fft=n_fft,\n",
        "                                hop_length=hop_length,\n",
        "                                n_mels=n_mels).T\n",
        "\n",
        "    return mfcc[:, 1:]"
      ],
      "metadata": {
        "id": "BlngpypXduGs"
      },
      "execution_count": null,
      "outputs": []
    },
    {
      "cell_type": "code",
      "source": [
        "# run this to create the track (\"songs\") splits\n",
        "all_tracks = dataset.load_tracks()\n",
        "tracks_train = [t for t in all_tracks.values() if t.subset == 'training']\n",
        "tracks_test = [t for t in all_tracks.values() if t.subset == 'test']\n",
        "random.shuffle(tracks_test)\n",
        "tracks_test = tracks_test[:65] # 10% test\n",
        "\n",
        "print(\"There are {} tracks in the training set\".format(len(tracks_train)))\n",
        "print(\"There are {} tracks in the test set\".format(len(tracks_test)))"
      ],
      "metadata": {
        "id": "mOvhmEPPhpJn",
        "outputId": "2bd8b64f-ed8c-42b9-8670-1a1d1b0e3084",
        "colab": {
          "base_uri": "https://localhost:8080/"
        }
      },
      "execution_count": null,
      "outputs": [
        {
          "output_type": "stream",
          "name": "stdout",
          "text": [
            "There are 584 tracks in the training set\n",
            "There are 65 tracks in the test set\n"
          ]
        }
      ]
    },
    {
      "cell_type": "code",
      "source": [
        "# get the audio features for each audio track into a list\n",
        "features_train = [compute_mfccs(t.audio[0], t.audio[1]) for t in tracks_train]\n",
        "features_test = [compute_mfccs(t.audio[0], t.audio[1]) for t in tracks_test]\n",
        "# get the labels\n",
        "labels_train = [t.instrument_id for t in tracks_train]\n",
        "labels_test = [t.instrument_id for t in tracks_test]\n",
        "# convert them into an array\n",
        "features_train = np.array(features_train)\n",
        "features_test = np.array(features_test)\n",
        "labels_train = np.array(labels_train)\n",
        "labels_test = np.array(labels_test)"
      ],
      "metadata": {
        "id": "dbAtqTV_fJ1n"
      },
      "execution_count": null,
      "outputs": []
    },
    {
      "cell_type": "code",
      "source": [
        "features_train.shape"
      ],
      "metadata": {
        "id": "lit7ZaWCk2Cv",
        "outputId": "e04deb68-6fec-4ffa-a952-1d0f2e2c256c",
        "colab": {
          "base_uri": "https://localhost:8080/"
        }
      },
      "execution_count": null,
      "outputs": [
        {
          "output_type": "execute_result",
          "data": {
            "text/plain": [
              "(584, 129, 19)"
            ]
          },
          "metadata": {},
          "execution_count": 9
        }
      ]
    },
    {
      "cell_type": "code",
      "execution_count": null,
      "metadata": {
        "id": "BEGWe0NC3cqe",
        "outputId": "f487314b-e0a8-4468-fece-d7d838015d9e",
        "colab": {
          "base_uri": "https://localhost:8080/"
        }
      },
      "outputs": [
        {
          "output_type": "execute_result",
          "data": {
            "text/plain": [
              "584"
            ]
          },
          "metadata": {},
          "execution_count": 10
        }
      ],
      "source": [
        "len(labels_train)"
      ]
    },
    {
      "cell_type": "code",
      "execution_count": null,
      "metadata": {
        "id": "iNuT4b7z3cqe",
        "outputId": "8873bf6a-d0b1-4d53-cf27-dc35ef32c742",
        "colab": {
          "base_uri": "https://localhost:8080/"
        }
      },
      "outputs": [
        {
          "output_type": "execute_result",
          "data": {
            "text/plain": [
              "array([0, 0, 0, 0, 0, 0, 0, 0, 0, 0, 0, 0, 0, 0, 0, 0, 0, 0, 0, 0, 0, 0,\n",
              "       0, 0, 0, 1, 1, 1, 1, 1, 1, 1, 1, 1, 1, 1, 1, 1, 1, 1, 1, 1, 1, 1,\n",
              "       1, 1, 1, 1, 1, 1, 1, 1, 1, 1, 1, 1, 1, 1, 1, 1, 1, 1, 1, 1, 1, 2,\n",
              "       2, 2, 2, 2, 2, 2, 2, 2, 2, 2, 2, 2, 2, 2, 2, 2, 2, 2, 2, 2, 2, 2,\n",
              "       2, 2, 2, 2, 2, 2, 2, 2, 2, 3, 3, 3, 3, 3, 3, 3, 3, 3, 3, 3, 3, 3,\n",
              "       3, 3, 3, 4, 4, 4, 4, 4, 4, 4, 4, 4, 4, 4, 4, 4, 4, 4, 4, 4, 4, 4,\n",
              "       4, 4, 4, 4, 4, 4, 4, 4, 4, 4, 4, 4, 4, 4, 4, 4, 4, 4, 4, 4, 4, 4,\n",
              "       4, 4, 4, 4, 4, 4, 4, 4, 4, 4, 4, 4, 4, 4, 4, 4, 4, 4, 4, 4, 4, 4,\n",
              "       4, 4, 4, 4, 4, 4, 4, 4, 4, 4, 4, 4, 4, 4, 4, 4, 4, 4, 4, 4, 4, 4,\n",
              "       4, 4, 4, 4, 4, 4, 4, 4, 4, 4, 4, 4, 4, 4, 4, 4, 4, 4, 4, 4, 4, 4,\n",
              "       4, 4, 4, 4, 4, 4, 4, 4, 4, 4, 4, 4, 4, 4, 4, 4, 4, 4, 4, 4, 4, 4,\n",
              "       4, 4, 4, 4, 4, 4, 4, 4, 4, 4, 4, 4, 4, 4, 4, 4, 4, 4, 4, 4, 4, 4,\n",
              "       4, 4, 4, 4, 4, 4, 4, 4, 4, 4, 4, 4, 4, 4, 4, 4, 4, 4, 4, 4, 4, 4,\n",
              "       4, 4, 4, 4, 4, 4, 4, 4, 4, 4, 4, 4, 4, 4, 4, 4, 4, 4, 4, 4, 4, 4,\n",
              "       4, 4, 4, 4, 4, 4, 4, 4, 4, 4, 4, 4, 4, 4, 4, 4, 4, 4, 4, 4, 4, 4,\n",
              "       4, 4, 4, 4, 4, 4, 4, 4, 4, 4, 4, 4, 4, 4, 4, 4, 4, 4, 4, 4, 4, 4,\n",
              "       4, 5, 5, 5, 5, 5, 5, 5, 5, 5, 5, 5, 5, 6, 6, 6, 6, 6, 6, 6, 6, 6,\n",
              "       6, 6, 6, 6, 6, 6, 7, 7, 7, 7, 7, 7, 7, 7, 7, 7, 7, 7, 7, 7, 7, 7,\n",
              "       7, 7, 7, 7, 7, 7, 7, 7, 7, 7, 7, 7, 7, 7, 7, 7, 7, 7, 7, 7, 7, 7,\n",
              "       7, 7, 7, 7, 7, 7, 7, 7, 7, 7, 7, 7, 7, 7, 7, 7, 7, 7, 7, 7, 7, 7,\n",
              "       7, 7, 7, 7, 7, 7, 7, 7, 7, 7, 7, 7, 7, 7, 7, 7, 7, 7, 7, 7, 7, 7,\n",
              "       7, 7, 7, 7, 7, 7, 7, 7, 7, 7, 7, 7, 7, 7, 7, 7, 7, 7, 7, 7, 7, 7,\n",
              "       7, 7, 7, 7, 7, 7, 7, 7, 7, 7, 7, 7, 7, 7, 7, 7, 7, 7, 7, 7, 7, 7,\n",
              "       7, 7, 7, 7, 7, 7, 7, 7, 7, 7, 7, 7, 7, 7, 7, 7, 7, 7, 7, 7, 7, 7,\n",
              "       7, 7, 7, 7, 7, 7, 7, 7, 7, 7, 7, 7, 7, 7, 7, 7, 7, 7, 7, 7, 7, 7,\n",
              "       7, 7, 7, 7, 7, 7, 7, 7, 7, 7, 7, 7, 7, 7, 7, 7, 7, 7, 7, 7, 7, 7,\n",
              "       7, 7, 7, 7, 7, 7, 7, 7, 7, 7, 7, 7])"
            ]
          },
          "metadata": {},
          "execution_count": 11
        }
      ],
      "source": [
        "labels_train"
      ]
    },
    {
      "cell_type": "code",
      "execution_count": null,
      "metadata": {
        "id": "v3lEX-2c3cqf",
        "outputId": "566b4186-42e9-4a9f-e31b-32867d475d85",
        "colab": {
          "base_uri": "https://localhost:8080/"
        }
      },
      "outputs": [
        {
          "output_type": "execute_result",
          "data": {
            "text/plain": [
              "(65, 129, 19)"
            ]
          },
          "metadata": {},
          "execution_count": 12
        }
      ],
      "source": [
        "features_test.shape"
      ]
    },
    {
      "cell_type": "code",
      "execution_count": null,
      "metadata": {
        "id": "bASR4WML3cqf",
        "outputId": "93072a61-3696-4fd6-936e-7745e5dce396",
        "colab": {
          "base_uri": "https://localhost:8080/"
        }
      },
      "outputs": [
        {
          "output_type": "execute_result",
          "data": {
            "text/plain": [
              "65"
            ]
          },
          "metadata": {},
          "execution_count": 13
        }
      ],
      "source": [
        "len(labels_test)"
      ]
    },
    {
      "cell_type": "code",
      "execution_count": null,
      "metadata": {
        "id": "zx5xtaZX3cqg",
        "outputId": "2926a913-c4d8-4ab7-ff7c-b4944c4e1251",
        "colab": {
          "base_uri": "https://localhost:8080/"
        }
      },
      "outputs": [
        {
          "output_type": "execute_result",
          "data": {
            "text/plain": [
              "array([4, 4, 7, 4, 3, 7, 4, 1, 4, 1, 3, 7, 6, 7, 4, 4, 3, 1, 2, 7, 7, 6,\n",
              "       0, 4, 0, 3, 7, 7, 3, 7, 4, 4, 7, 7, 7, 3, 4, 7, 4, 4, 4, 3, 7, 3,\n",
              "       7, 7, 3, 3, 2, 1, 4, 2, 7, 4, 4, 1, 7, 1, 4, 1, 4, 3, 4, 4, 0])"
            ]
          },
          "metadata": {},
          "execution_count": 14
        }
      ],
      "source": [
        "labels_test"
      ]
    },
    {
      "cell_type": "markdown",
      "metadata": {
        "id": "773_wkgj3cqg"
      },
      "source": [
        "### The network architecture\n",
        "\n",
        "Add code to create a two-dense-layer neural network for instrument classification. The first layer should have a `relu` activation and the second one a `softmax` activation.\n",
        "\n",
        "How many units? (= how large are the layers?)\n",
        "\n",
        "- First layer: 🤷 you can set some number like, 10, or 100, or 30, or 512.\n",
        "- Second (and last) layer: What do you think? Why were there 10 units in the last layer, in the MNIST digit classification examples?"
      ]
    },
    {
      "cell_type": "code",
      "execution_count": null,
      "metadata": {
        "id": "aZbYb9NJ3cqh"
      },
      "outputs": [],
      "source": [
        "# YOUR CODE HERE\n",
        "#\n",
        "# from tensorflow import keras\n",
        "# from tensorflow.keras import layers\n",
        "# model = keras.Sequential(..)\n",
        "\n",
        "from tensorflow import keras\n",
        "from tensorflow.keras import layers\n",
        "model = keras.Sequential([\n",
        "    layers.Dense(512, activation=\"relu\"),\n",
        "    layers.Dense(10, activation=\"softmax\")\n",
        "])"
      ]
    },
    {
      "cell_type": "markdown",
      "metadata": {
        "id": "BS-U4KTR3cqh"
      },
      "source": [
        "### The compilation step\n",
        "\n",
        "Add code to compile the model with a `rmsprop` optimizer, with a `sparse_categorical_crossentropy` loss and `accuracy` as metric."
      ]
    },
    {
      "cell_type": "code",
      "execution_count": null,
      "metadata": {
        "id": "oIaCKyno3cqh"
      },
      "outputs": [],
      "source": [
        "# YOUR CODE HERE\n",
        "#\n",
        "# model...\n",
        "\n",
        "model.compile(optimizer=\"rmsprop\",\n",
        "              loss=\"sparse_categorical_crossentropy\",\n",
        "              metrics=[\"accuracy\"])"
      ]
    },
    {
      "cell_type": "markdown",
      "metadata": {
        "id": "OEc2Q1ng3cqi"
      },
      "source": [
        "### Preparing the audio data\n",
        "\n",
        "A dense layer expects a matrix (tensor rank-2) as input. Values, should be normalized between 1 and -1."
      ]
    },
    {
      "cell_type": "code",
      "execution_count": null,
      "metadata": {
        "id": "1GG-7GOD3cqi"
      },
      "outputs": [],
      "source": [
        "# YOUR CODE HERE\n",
        "#\n",
        "features_train_r2 =\n",
        "features_train_r2 =\n",
        "features_test_r2 =\n",
        "features_test_r2 ="
      ]
    },
    {
      "cell_type": "code",
      "source": [
        "# Check your code\n",
        "assert len(features_train_r2.shape) == 2\n",
        "assert features_train_r2.max() <= 1\n",
        "assert features_train_r2.min() >= -1\n",
        "\n",
        "assert len(features_test_r2.shape) == 2\n",
        "assert features_test_r2.max() <= 1\n",
        "assert features_test_r2.min() >= -1"
      ],
      "metadata": {
        "id": "QfCgEvvbozfx",
        "outputId": "a82a6f07-d517-49cd-9d3e-829d0ec5b5bb",
        "colab": {
          "base_uri": "https://localhost:8080/",
          "height": 253
        }
      },
      "execution_count": null,
      "outputs": [
        {
          "output_type": "error",
          "ename": "NameError",
          "evalue": "name 'features_train_r2' is not defined",
          "traceback": [
            "\u001b[0;31m---------------------------------------------------------------------------\u001b[0m",
            "\u001b[0;31mNameError\u001b[0m                                 Traceback (most recent call last)",
            "\u001b[0;32m<ipython-input-18-17eed9c7763c>\u001b[0m in \u001b[0;36m<cell line: 2>\u001b[0;34m()\u001b[0m\n\u001b[1;32m      1\u001b[0m \u001b[0;31m# Check your code\u001b[0m\u001b[0;34m\u001b[0m\u001b[0;34m\u001b[0m\u001b[0m\n\u001b[0;32m----> 2\u001b[0;31m \u001b[0;32massert\u001b[0m \u001b[0mlen\u001b[0m\u001b[0;34m(\u001b[0m\u001b[0mfeatures_train_r2\u001b[0m\u001b[0;34m.\u001b[0m\u001b[0mshape\u001b[0m\u001b[0;34m)\u001b[0m \u001b[0;34m==\u001b[0m \u001b[0;36m2\u001b[0m\u001b[0;34m\u001b[0m\u001b[0;34m\u001b[0m\u001b[0m\n\u001b[0m\u001b[1;32m      3\u001b[0m \u001b[0;32massert\u001b[0m \u001b[0mfeatures_train_r2\u001b[0m\u001b[0;34m.\u001b[0m\u001b[0mmax\u001b[0m\u001b[0;34m(\u001b[0m\u001b[0;34m)\u001b[0m \u001b[0;34m<=\u001b[0m \u001b[0;36m1\u001b[0m\u001b[0;34m\u001b[0m\u001b[0;34m\u001b[0m\u001b[0m\n\u001b[1;32m      4\u001b[0m \u001b[0;32massert\u001b[0m \u001b[0mfeatures_train_r2\u001b[0m\u001b[0;34m.\u001b[0m\u001b[0mmin\u001b[0m\u001b[0;34m(\u001b[0m\u001b[0;34m)\u001b[0m \u001b[0;34m>=\u001b[0m \u001b[0;34m-\u001b[0m\u001b[0;36m1\u001b[0m\u001b[0;34m\u001b[0m\u001b[0;34m\u001b[0m\u001b[0m\n\u001b[1;32m      5\u001b[0m \u001b[0;34m\u001b[0m\u001b[0m\n",
            "\u001b[0;31mNameError\u001b[0m: name 'features_train_r2' is not defined"
          ]
        }
      ]
    },
    {
      "cell_type": "markdown",
      "metadata": {
        "id": "cvhKWlig3cqi"
      },
      "source": [
        "### \"Fitting\" the model"
      ]
    },
    {
      "cell_type": "code",
      "execution_count": null,
      "metadata": {
        "id": "MFZ98yaj3cqj"
      },
      "outputs": [],
      "source": [
        "# YOUR CODE HERE\n",
        "# model.."
      ]
    },
    {
      "cell_type": "markdown",
      "metadata": {
        "id": "t8_-1bla3cqj"
      },
      "source": [
        "### Using the model to make predictions"
      ]
    },
    {
      "cell_type": "code",
      "execution_count": null,
      "metadata": {
        "id": "BHZcM1523cqj"
      },
      "outputs": [],
      "source": [
        "# YOUR CODE HERE"
      ]
    },
    {
      "cell_type": "code",
      "execution_count": null,
      "metadata": {
        "id": "BWalv4Go3cqj"
      },
      "outputs": [],
      "source": [
        "predictions[0].argmax()"
      ]
    },
    {
      "cell_type": "code",
      "execution_count": null,
      "metadata": {
        "id": "SVeG8_5p3cqk"
      },
      "outputs": [],
      "source": [
        "predictions[0][3]"
      ]
    },
    {
      "cell_type": "code",
      "execution_count": null,
      "metadata": {
        "id": "dQQIkG-T3cqk"
      },
      "outputs": [],
      "source": [
        "labels_test[0]"
      ]
    },
    {
      "cell_type": "code",
      "source": [
        "# check what instrument that corresponds to what label\n",
        "np.unique([f'{t.instrument_id}-{t.instrument}' for t in tracks_test])"
      ],
      "metadata": {
        "id": "9FIw6xMpsLOQ"
      },
      "execution_count": null,
      "outputs": []
    },
    {
      "cell_type": "markdown",
      "metadata": {
        "id": "dkLnEALa3cqk"
      },
      "source": [
        "**Evaluating the model on new data**"
      ]
    },
    {
      "cell_type": "code",
      "execution_count": null,
      "metadata": {
        "id": "EfaeS8DL3cqk"
      },
      "outputs": [],
      "source": [
        "# YOUR CODE HERE"
      ]
    }
  ],
  "metadata": {
    "colab": {
      "provenance": [],
      "include_colab_link": true
    },
    "kernelspec": {
      "display_name": "Python 3",
      "language": "python",
      "name": "python3"
    },
    "language_info": {
      "codemirror_mode": {
        "name": "ipython",
        "version": 3
      },
      "file_extension": ".py",
      "mimetype": "text/x-python",
      "name": "python",
      "nbconvert_exporter": "python",
      "pygments_lexer": "ipython3",
      "version": "3.7.0"
    }
  },
  "nbformat": 4,
  "nbformat_minor": 0
}